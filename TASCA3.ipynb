{
 "cells": [
  {
   "cell_type": "markdown",
   "metadata": {},
   "source": [
    "# TAREA 3"
   ]
  },
  {
   "cell_type": "markdown",
   "metadata": {},
   "source": [
    "___EJERCICIO 1___"
   ]
  },
  {
   "cell_type": "code",
   "execution_count": 15,
   "metadata": {},
   "outputs": [
    {
     "name": "stdout",
     "output_type": "stream",
     "text": [
      "¿Qué nota tienes? 8.2\n",
      "¡Has sacado un notable!\n"
     ]
    }
   ],
   "source": [
    "# programa para clasificador de notas\n",
    "nota = float(input('¿Qué nota tienes? '))\n",
    "\n",
    "if nota >= 9:\n",
    "    print('¡Has sacado un excelente!')\n",
    "elif nota >=7:\n",
    "    print('¡Has sacado un notable!')\n",
    "elif nota >=5:\n",
    "    print('¡Has aprobado!')\n",
    "else:\n",
    "    print('Has suspendido')"
   ]
  },
  {
   "cell_type": "markdown",
   "metadata": {},
   "source": [
    "___EJERCICIO 2___"
   ]
  },
  {
   "cell_type": "code",
   "execution_count": 14,
   "metadata": {},
   "outputs": [
    {
     "name": "stdout",
     "output_type": "stream",
     "text": [
      "Escribe un número: 3\n",
      "Escribe otro número: 4\n",
      "El segundo número introducido es más grande que el primero\n"
     ]
    }
   ],
   "source": [
    "# Programa que te dice que número es más grande de los introducidos o si son iguales\n",
    "x = input('Escribe un número: ')\n",
    "\n",
    "y = input('Escribe otro número: ')\n",
    "\n",
    "if x > y:\n",
    "    print('El primer número introducido es más grande que el segundo')\n",
    "elif x == y:\n",
    "    print('Los números introducidos son iguales')\n",
    "else:\n",
    "    print('El segundo número introducido es más grande que el primero')"
   ]
  },
  {
   "cell_type": "markdown",
   "metadata": {},
   "source": [
    "___EJERCICIO 3___"
   ]
  },
  {
   "cell_type": "code",
   "execution_count": 12,
   "metadata": {},
   "outputs": [
    {
     "name": "stdout",
     "output_type": "stream",
     "text": [
      "¿Cómo te llamas? steph\n",
      "Escribe un número: 3\n",
      "steph steph steph \n"
     ]
    }
   ],
   "source": [
    "# programa que te pregunta nombre y número\n",
    "nombre = input('¿Cómo te llamas? ')\n",
    "num = int(input('Escribe un número: '))\n",
    "nom = nombre + \" \"\n",
    "if num == 0:\n",
    "    print('Error: el número introducido no es válido')\n",
    "else:\n",
    "    print((nom)*(num))"
   ]
  },
  {
   "cell_type": "markdown",
   "metadata": {},
   "source": [
    "___EJERCICIO 4___"
   ]
  },
  {
   "cell_type": "code",
   "execution_count": 10,
   "metadata": {},
   "outputs": [
    {
     "name": "stdout",
     "output_type": "stream",
     "text": [
      "Introduce los números que quieras separándolos por comas: 1,3,1\n",
      "3\n"
     ]
    }
   ],
   "source": [
    "# creación de lista\n",
    "num = list(map(int, input('Introduce los números que quieras separándolos por comas: ').split(\",\")))\n",
    "\n",
    "# copia de lista para crear nueva lista volteada\n",
    "l_vol = num.copy()\n",
    "l_vol.reverse()\n",
    "\n",
    "# si la lista es simétrica sabremos la cantidad de elementos que la compone\n",
    "if num == l_vol:\n",
    "    print(len(num))\n",
    "else:\n",
    "    print('no es simétrica')"
   ]
  },
  {
   "cell_type": "markdown",
   "metadata": {},
   "source": [
    "___EJERCICIO 5___"
   ]
  },
  {
   "cell_type": "code",
   "execution_count": 66,
   "metadata": {},
   "outputs": [
    {
     "name": "stdout",
     "output_type": "stream",
     "text": [
      "Introduce los números que quieras separándolos por comas: 4,1,7,3,8\n",
      "Coincide con su posición: [1, 3]\n"
     ]
    }
   ],
   "source": [
    "\n",
    "# creación de lista\n",
    "numeros = list(map(int, input('Introduce los números que quieras separándolos por comas: ').split(\",\")))\n",
    "\n",
    "# saber cuantos números coinciden con su posición dentro de la lista\n",
    "lista_coincidente = []\n",
    "\n",
    "for i, c in enumerate(numeros):\n",
    "    if i == c:\n",
    "        lista_coincidente.append(i)\n",
    "\n",
    "def is_empty(lista_union):\n",
    "    if lista_coincidente:\n",
    "        print('Coincide con su posición: ' + str(lista_coincidente) )\n",
    "    else:\n",
    "        print('Ningún número coincide con su posición')\n",
    "        \n",
    "\n",
    "is_empty(lista_coincidente)  \n",
    "\n"
   ]
  }
 ],
 "metadata": {
  "kernelspec": {
   "display_name": "Python 3",
   "language": "python",
   "name": "python3"
  },
  "language_info": {
   "codemirror_mode": {
    "name": "ipython",
    "version": 3
   },
   "file_extension": ".py",
   "mimetype": "text/x-python",
   "name": "python",
   "nbconvert_exporter": "python",
   "pygments_lexer": "ipython3",
   "version": "3.8.5"
  }
 },
 "nbformat": 4,
 "nbformat_minor": 4
}
